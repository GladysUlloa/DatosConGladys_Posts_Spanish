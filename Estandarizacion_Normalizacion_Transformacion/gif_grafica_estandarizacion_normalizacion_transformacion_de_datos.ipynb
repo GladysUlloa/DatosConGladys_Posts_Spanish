{
  "nbformat": 4,
  "nbformat_minor": 0,
  "metadata": {
    "colab": {
      "provenance": []
    },
    "kernelspec": {
      "name": "python3",
      "display_name": "Python 3"
    },
    "language_info": {
      "name": "python"
    }
  },
  "cells": [
    {
      "cell_type": "markdown",
      "source": [
        "# Gráfica de Estandarización, Normalización y Transformación de Datos\n",
        "Autora: Gladys Choque Ulloa"
      ],
      "metadata": {
        "id": "nuau5Kv7NpHk"
      }
    },
    {
      "cell_type": "code",
      "execution_count": null,
      "metadata": {
        "id": "pRk3ak5-NmJS"
      },
      "outputs": [],
      "source": [
        "import numpy as np\n",
        "import matplotlib.pyplot as plt\n",
        "import seaborn as sns\n",
        "from sklearn.preprocessing import StandardScaler, MinMaxScaler, PowerTransformer\n",
        "from matplotlib.animation import FuncAnimation, PillowWriter\n",
        "from scipy.stats import gaussian_kde\n",
        "\n",
        "# --------------------------\n",
        "# 1. Crear datos de ejemplo\n",
        "# --------------------------\n",
        "np.random.seed(42)\n",
        "data_original = np.random.exponential(scale=2.0, size=100)\n",
        "\n",
        "scaler_std = StandardScaler()\n",
        "data_estandarizada = scaler_std.fit_transform(data_original.reshape(-1,1)).flatten()\n",
        "\n",
        "scaler_minmax = MinMaxScaler()\n",
        "data_normalizada = scaler_minmax.fit_transform(data_original.reshape(-1,1)).flatten()\n",
        "\n",
        "pt = PowerTransformer(method='yeo-johnson')\n",
        "data_transformada = pt.fit_transform(data_original.reshape(-1,1)).flatten()\n",
        "\n",
        "# --------------------------\n",
        "# 2. Configurar figura\n",
        "# --------------------------\n",
        "sns.set_style(\"whitegrid\")\n",
        "fig, axes = plt.subplots(3, 2, figsize=(14, 12))\n",
        "fig.suptitle(\"Comparación: Original vs Transformado\", fontsize=18, weight='bold')\n",
        "\n",
        "titles = [\n",
        "    \"No Estandarizado \", \"Estandarizado\",\n",
        "    \"No Normalizado\", \"Normalizado\",\n",
        "    \"No Transformado\", \"Transformado (Yeo-Johnson)\"\n",
        "]\n",
        "\n",
        "data_list = [\n",
        "    data_original, data_estandarizada,\n",
        "    data_original, data_normalizada,\n",
        "    data_original, data_transformada\n",
        "]\n",
        "\n",
        "colors = ['#1f77b4', '#ff7f0e', '#2ca02c', '#d62728', '#9467bd', '#8c564b']\n",
        "n_frames = 40\n",
        "\n",
        "# --------------------------\n",
        "# 3. Función de animación\n",
        "# --------------------------\n",
        "def init():\n",
        "    for i, ax in enumerate(axes.flatten()):\n",
        "        ax.clear()\n",
        "        counts, bins, _ = ax.hist(data_list[i], bins=20, color=colors[i], edgecolor='black', alpha=0.7)\n",
        "        kde = gaussian_kde(data_list[i])\n",
        "        x_vals = np.linspace(min(data_list[i]), max(data_list[i]), 200)\n",
        "        ax.plot(x_vals, kde(x_vals)*len(data_list[i])*(bins[1]-bins[0]), color='black', lw=1.5)\n",
        "        ax.set_title(titles[i], fontsize=14, weight='bold')\n",
        "        ax.set_xlim(min(data_original)*0.9, max(data_original)*1.1)\n",
        "        ax.set_ylim(0, 30)\n",
        "    return axes.flatten()\n",
        "\n",
        "def animate(frame):\n",
        "    factor = (frame + 1)/n_frames\n",
        "    for i, ax in enumerate(axes.flatten()):\n",
        "        ax.clear()\n",
        "        # Histograma escalado\n",
        "        counts, bins = np.histogram(data_list[i], bins=20)\n",
        "        scaled_counts = counts * factor\n",
        "        bin_centers = 0.5*(bins[1:] + bins[:-1])\n",
        "        ax.bar(bin_centers, scaled_counts, width=(bins[1]-bins[0])*0.9,\n",
        "               color=colors[i], edgecolor='black', alpha=0.8)\n",
        "        # Curva de densidad escalada\n",
        "        kde = gaussian_kde(data_list[i])\n",
        "        x_vals = np.linspace(min(data_list[i]), max(data_list[i]), 200)\n",
        "        kde_scaled = kde(x_vals) * len(data_list[i]) * (bins[1]-bins[0]) * factor\n",
        "        ax.plot(x_vals, kde_scaled, color='black', lw=1.5)\n",
        "        ax.set_title(titles[i], fontsize=14, weight='bold')\n",
        "        ax.set_xlim(min(data_original)*0.9, max(data_original)*1.1)\n",
        "        ax.set_ylim(0, 30)\n",
        "    return axes.flatten()\n",
        "\n",
        "# --------------------------\n",
        "# 4. Crear GIF\n",
        "# --------------------------\n",
        "anim = FuncAnimation(fig, animate, frames=n_frames, init_func=init, blit=False, interval=150)\n",
        "gif_filename = \"comparacion_datos_barras_densidad.gif\"\n",
        "writer = PillowWriter(fps=8)\n",
        "anim.save(gif_filename, writer=writer)\n",
        "\n",
        "plt.close(fig)\n",
        "print(f\"GIF guardado como {gif_filename}\")\n"
      ]
    }
  ]
}
